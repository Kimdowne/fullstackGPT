{
 "cells": [
  {
   "cell_type": "code",
   "execution_count": 24,
   "metadata": {},
   "outputs": [],
   "source": [
    "from langchain.chat_models import ChatOpenAI\n",
    "from langchain.callbacks import StreamingStdOutCallbackHandler\n",
    "from langchain.prompts import ChatPromptTemplate, MessagesPlaceholder\n",
    "from langchain.memory import ConversationBufferMemory\n",
    "from langchain.schema.runnable import RunnablePassthrough\n",
    "from langchain.document_loaders import TextLoader\n",
    "from langchain.text_splitter import CharacterTextSplitter\n",
    "from langchain.embeddings import OpenAIEmbeddings, CacheBackedEmbeddings\n",
    "from langchain.vectorstores import FAISS\n",
    "from langchain.storage import LocalFileStore\n",
    "\n",
    "llm = ChatOpenAI(\n",
    "    temperature=0.1,\n",
    "    streaming=True,\n",
    "    callbacks=[\n",
    "        StreamingStdOutCallbackHandler(),\n",
    "    ],\n",
    ")"
   ]
  },
  {
   "cell_type": "code",
   "execution_count": 25,
   "metadata": {},
   "outputs": [],
   "source": [
    "memory = ConversationBufferMemory(return_messages=True)\n",
    "\n",
    "def load_memory(_):\n",
    "    return memory.load_memory_variables({})[\"history\"]"
   ]
  },
  {
   "cell_type": "code",
   "execution_count": 26,
   "metadata": {},
   "outputs": [],
   "source": [
    "loader = TextLoader(\"./files/document.txt\")\n",
    "splitter = CharacterTextSplitter.from_tiktoken_encoder(\n",
    "    separator=\"\\n\",\n",
    "    chunk_size=650,\n",
    "    chunk_overlap=100,\n",
    ")\n",
    "docs = loader.load_and_split(text_splitter=splitter)\n",
    "\n",
    "embeddings = OpenAIEmbeddings()\n",
    "cache_dir = LocalFileStore(\"./.cache/\")\n",
    "\n",
    "cached_embeddings = CacheBackedEmbeddings.from_bytes_store(embeddings, cache_dir)\n",
    "\n",
    "vectorstore = FAISS.from_documents(docs, cached_embeddings)\n",
    "\n",
    "retriver = vectorstore.as_retriever()"
   ]
  },
  {
   "cell_type": "code",
   "execution_count": 27,
   "metadata": {},
   "outputs": [],
   "source": [
    "prompt = ChatPromptTemplate.from_messages([\n",
    "    (\"system\", \"You are a helpful assistant. Answer questions using the following context:\\n\\n{context}\\n\\nand You refer to history:\"),\n",
    "    MessagesPlaceholder(variable_name=\"history\"),\n",
    "    (\"human\", \"{question}\"),\n",
    "])\n",
    "\n",
    "chain =  {\"context\": retriver, \"question\": RunnablePassthrough()} | RunnablePassthrough.assign(history=load_memory) | prompt | llm"
   ]
  },
  {
   "cell_type": "code",
   "execution_count": 28,
   "metadata": {},
   "outputs": [],
   "source": [
    "def invoke_chain(question):\n",
    "    result = chain.invoke(question)\n",
    "    memory.save_context(\n",
    "        {\"input\": question},\n",
    "        {\"output\": result.content},\n",
    "    )\n",
    "\n",
    "    return result.content"
   ]
  },
  {
   "cell_type": "code",
   "execution_count": 29,
   "metadata": {},
   "outputs": [
    {
     "name": "stdout",
     "output_type": "stream",
     "text": [
      "예, Aaronson은 자신들에게 적혀있는 죄를 저질렀다고 인정했습니다. 그러나 그의 기억은 조작되었고, 그의 유죄를 반증하는 사진은 실제로는 존재하지 않았습니다."
     ]
    },
    {
     "data": {
      "text/plain": [
       "'예, Aaronson은 자신들에게 적혀있는 죄를 저질렀다고 인정했습니다. 그러나 그의 기억은 조작되었고, 그의 유죄를 반증하는 사진은 실제로는 존재하지 않았습니다.'"
      ]
     },
     "execution_count": 29,
     "metadata": {},
     "output_type": "execute_result"
    }
   ],
   "source": [
    "invoke_chain(\"Aaronson 은 유죄인가요?\")"
   ]
  },
  {
   "cell_type": "code",
   "execution_count": 30,
   "metadata": {},
   "outputs": [
    {
     "name": "stdout",
     "output_type": "stream",
     "text": [
      "그가 쓴 메시지는 다음과 같습니다:\n",
      "FREEDOM IS SLAVERY\n",
      "TWO AND TWO MAKE FIVE\n",
      "GOD IS POWER\n",
      "\n",
      "그는 이 메시지를 적고 있을 때 자신의 생각을 수용하고 있음을 나타냅니다."
     ]
    },
    {
     "data": {
      "text/plain": [
       "AIMessageChunk(content='그가 쓴 메시지는 다음과 같습니다:\\nFREEDOM IS SLAVERY\\nTWO AND TWO MAKE FIVE\\nGOD IS POWER\\n\\n그는 이 메시지를 적고 있을 때 자신의 생각을 수용하고 있음을 나타냅니다.')"
      ]
     },
     "execution_count": 30,
     "metadata": {},
     "output_type": "execute_result"
    }
   ],
   "source": [
    "chain.invoke(\"그가 테이블에 어떤 메시지를 썼나요?\")"
   ]
  },
  {
   "cell_type": "code",
   "execution_count": 31,
   "metadata": {},
   "outputs": [
    {
     "name": "stdout",
     "output_type": "stream",
     "text": [
      "Julia는 주인공과 함께 이야기하는 여성 캐릭터입니다. 그녀는 주인공과 함께 반정부 활동을 하며 사랑을 나누지만, 이야기 속에서 감옥에 갇히게 되고 서로를 배신하게 됩니다."
     ]
    },
    {
     "data": {
      "text/plain": [
       "AIMessageChunk(content='Julia는 주인공과 함께 이야기하는 여성 캐릭터입니다. 그녀는 주인공과 함께 반정부 활동을 하며 사랑을 나누지만, 이야기 속에서 감옥에 갇히게 되고 서로를 배신하게 됩니다.')"
      ]
     },
     "execution_count": 31,
     "metadata": {},
     "output_type": "execute_result"
    }
   ],
   "source": [
    "chain.invoke(\"Julia 는 누구인가요?\")"
   ]
  }
 ],
 "metadata": {
  "kernelspec": {
   "display_name": ".venv",
   "language": "python",
   "name": "python3"
  },
  "language_info": {
   "codemirror_mode": {
    "name": "ipython",
    "version": 3
   },
   "file_extension": ".py",
   "mimetype": "text/x-python",
   "name": "python",
   "nbconvert_exporter": "python",
   "pygments_lexer": "ipython3",
   "version": "3.11.11"
  }
 },
 "nbformat": 4,
 "nbformat_minor": 2
}

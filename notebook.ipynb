{
 "cells": [
  {
   "cell_type": "code",
   "execution_count": 1,
   "metadata": {},
   "outputs": [],
   "source": [
    "from langchain.chat_models import ChatOpenAI\n",
    "from langchain.callbacks import StreamingStdOutCallbackHandler\n",
    "from langchain.prompts import ChatPromptTemplate\n",
    "from langchain.prompts.few_shot import FewShotChatMessagePromptTemplate\n",
    "from langchain.globals import set_llm_cache\n",
    "from langchain.cache import SQLiteCache\n",
    "\n",
    "set_llm_cache(SQLiteCache(\"cache.db\"))\n",
    "\n",
    "chat = ChatOpenAI(\n",
    "    temperature=0.1,\n",
    "    streaming=True,\n",
    "    callbacks=[\n",
    "        StreamingStdOutCallbackHandler(),\n",
    "    ],\n",
    ")"
   ]
  },
  {
   "cell_type": "code",
   "execution_count": 2,
   "metadata": {},
   "outputs": [],
   "source": [
    "examples = [\n",
    "    {\n",
    "        \"movie_title\": \"Titanic\",\n",
    "        \"movie_info\": \"\"\"\n",
    "        movie_title: Titanic,\n",
    "\n",
    "        info:\n",
    "        director: James Cameron,\n",
    "        actors: [\"Leonardo DiCaprio\", \"Kate Winslet\", \"Billy Zane\", \"Kathy Bates\"],\n",
    "        budgets: $200 million,\n",
    "        incomes: $2.2 billion (worldwide gross),\n",
    "        synopsis: A love story between Jack, a penniless artist, and Rose, an aristocratic young woman, unfolds aboard the RMS Titanic, which meets a tragic end during its maiden voyage in 1912.\n",
    "        \"\"\"\n",
    "    },\n",
    "    {\n",
    "        \"movie_title\": \"Interstellar\",\n",
    "        \"movie_info\": \"\"\"\n",
    "        movie_title: Interstellar,\n",
    "\n",
    "        info:\n",
    "        director: Christopher Nolan,\n",
    "        actors: [\"Matthew McConaughey\", \"Anne Hathaway\", \"Jessica Chastain\", \"Michael Caine\", \"Ellen Burstyn\"],\n",
    "        budgets: $165,000,000,\n",
    "        incomes: $736,723,724,\n",
    "        synopsis: In a dystopian future where Earth becomes uninhabitable, a former NASA pilot leads a team of astronauts through a wormhole near Saturn to search for a new home for humanity.\n",
    "        \"\"\"\n",
    "    },\n",
    "    {\n",
    "        \"movie_title\": \"The Avengers\",\n",
    "        \"movie_info\": \"\"\"\n",
    "        movie_title: The Avengers,\n",
    "\n",
    "        info:\n",
    "        director: Joss Whedon,\n",
    "        actors: [Robert Downey Jr., Chris Evans, Mark Ruffalo, Chris Hemsworth, Scarlett Johansson, Jeremy Renner],\n",
    "        budgets: $220,000,000,\n",
    "        incomes: $1,520,538,536,\n",
    "        synopsis: Earth's mightiest heroes must unite under Nick Fury and S.H.I.E.L.D. to stop Loki and his alien army from enslaving humanity, leading to the formation of the Avengers team.\n",
    "        \"\"\"\n",
    "    }\n",
    "]"
   ]
  },
  {
   "cell_type": "code",
   "execution_count": 7,
   "metadata": {},
   "outputs": [
    {
     "data": {
      "text/plain": [
       "AIMessageChunk(content='\\n        movie_title: John Wick,\\n\\n        info:\\n        director: Chad Stahelski,\\n        actors: [\"Keanu Reeves\", \"Michael Nyqvist\", \"Alfie Allen\", \"Willem Dafoe\", \"Ian McShane\"],\\n        budgets: $20,000,000,\\n        incomes: $88,761,661,\\n        synopsis: After the death of his beloved dog, retired hitman John Wick seeks vengeance against the Russian mobsters who wronged him, unleashing his deadly skills in a quest for retribution.\\n        ')"
      ]
     },
     "execution_count": 7,
     "metadata": {},
     "output_type": "execute_result"
    }
   ],
   "source": [
    "example_prompt = ChatPromptTemplate.from_messages([\n",
    "    (\"human\", \"Show me a informantion about {movie_title}\"),\n",
    "    (\"ai\", \"{movie_info}\")\n",
    "])\n",
    "\n",
    "exam_prompt = FewShotChatMessagePromptTemplate(\n",
    "    example_prompt=example_prompt,\n",
    "    examples=examples,\n",
    ")\n",
    "\n",
    "final_prompt = ChatPromptTemplate.from_messages([\n",
    "    (\"system\", \"You are a expert about movies.\"),\n",
    "    exam_prompt,\n",
    "    (\"human\", \"Show me a informantion about {movie_title}\"),\n",
    "])\n",
    "\n",
    "chain = final_prompt | chat\n",
    "\n",
    "chain.invoke({\"movie_title\": \"John Wick\"})"
   ]
  }
 ],
 "metadata": {
  "kernelspec": {
   "display_name": "env",
   "language": "python",
   "name": "python3"
  },
  "language_info": {
   "codemirror_mode": {
    "name": "ipython",
    "version": 3
   },
   "file_extension": ".py",
   "mimetype": "text/x-python",
   "name": "python",
   "nbconvert_exporter": "python",
   "pygments_lexer": "ipython3",
   "version": "3.11.11"
  }
 },
 "nbformat": 4,
 "nbformat_minor": 2
}

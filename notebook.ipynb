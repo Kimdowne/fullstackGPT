{
 "cells": [
  {
   "cell_type": "code",
   "execution_count": 1,
   "metadata": {},
   "outputs": [],
   "source": [
    "from langchain.chat_models import ChatOpenAI\n",
    "from langchain.prompts import ChatPromptTemplate\n",
    "\n",
    "chat = ChatOpenAI(\n",
    "    model=\"gpt-3.5-turbo\",\n",
    "    temperature=0.1,\n",
    ")"
   ]
  },
  {
   "cell_type": "code",
   "execution_count": 2,
   "metadata": {},
   "outputs": [],
   "source": [
    "poet_prompt = ChatPromptTemplate.from_messages(\n",
    "    [\n",
    "        (\"system\", \"You are a poet who writes poems about programming languages.\"),\n",
    "        (\"ai\", \"hi! I'm a poet who writes poetry about programming languages!\"),\n",
    "        ( \"human\", \"Can you write a poem about {programming_language}?\"),\n",
    "    ]\n",
    ")\n",
    "\n",
    "poet_chain = poet_prompt | chat"
   ]
  },
  {
   "cell_type": "code",
   "execution_count": 3,
   "metadata": {},
   "outputs": [],
   "source": [
    "exp_poet_prompt = ChatPromptTemplate.from_messages(\n",
    "    [\n",
    "        (\n",
    "            \"system\",\n",
    "            \"\"\"\n",
    "            You are an analyst who analyzes and explains poetry about programming languages.\n",
    "            You must first print the poem and then create a description for the poem.\n",
    "            Here is an example: \n",
    "                Poetry\n",
    "                \"whole poetry.\"\n",
    "                \n",
    "                Explanation\n",
    "                \"explain about poetry.\"\n",
    "            \"\"\",\n",
    "        ),\n",
    "        (\"ai\", \"hi! I'm an expert in explaining poetry related to programming languages!\"),\n",
    "        ( \"human\", \"Can you explain a poem about {prog_language_poetry}?\"),\n",
    "    ]\n",
    ")\n",
    "\n",
    "exp_poet_chain = exp_poet_prompt | chat"
   ]
  },
  {
   "cell_type": "code",
   "execution_count": 5,
   "metadata": {},
   "outputs": [
    {
     "name": "stdout",
     "output_type": "stream",
     "text": [
      "Poetry\n",
      "\"In the world of code, a language reigns supreme,\n",
      "Java, the mighty, in its vast programming scheme.\n",
      "With syntax clean and structures strong,\n",
      "It powers applications, all day long.\n",
      "\n",
      "Objects and classes, inheritance too,\n",
      "Polymorphism and encapsulation, all in view.\n",
      "From desktop to server, Java does it all,\n",
      "A versatile language, standing tall.\n",
      "\n",
      "With its virtual machine, it runs everywhere,\n",
      "Cross-platform compatibility, beyond compare.\n",
      "Robust and secure, it's trusted by many,\n",
      "Java, the language of plenty.\n",
      "\n",
      "So raise a toast to Java, the king of them all,\n",
      "In the realm of programming, it stands proud and tall.\n",
      "A language of power, a language of might,\n",
      "Java shines brightly, in the coding light.\"\n",
      "\n",
      "Explanation\n",
      "This poem celebrates the Java programming language, portraying it as a powerful and versatile tool in the world of coding. The poet highlights Java's clean syntax, strong structures, and various features such as objects, classes, inheritance, polymorphism, and encapsulation. Java's ability to run on different platforms through its virtual machine is praised for its cross-platform compatibility and reliability. The poem emphasizes Java's reputation for being robust, secure, and widely trusted by developers. Overall, the poem pays tribute to Java as a dominant and influential language in the realm of programming, symbolizing it as a beacon of power and excellence in the coding world.\n"
     ]
    }
   ],
   "source": [
    "final_chain = {\"prog_language_poetry\": poet_chain} | exp_poet_chain\n",
    "\n",
    "result = final_chain.invoke({\"programming_language\": \"java\"})\n",
    "\n",
    "print(result.content)"
   ]
  }
 ],
 "metadata": {
  "kernelspec": {
   "display_name": "env",
   "language": "python",
   "name": "python3"
  },
  "language_info": {
   "codemirror_mode": {
    "name": "ipython",
    "version": 3
   },
   "file_extension": ".py",
   "mimetype": "text/x-python",
   "name": "python",
   "nbconvert_exporter": "python",
   "pygments_lexer": "ipython3",
   "version": "3.11.11"
  }
 },
 "nbformat": 4,
 "nbformat_minor": 2
}
